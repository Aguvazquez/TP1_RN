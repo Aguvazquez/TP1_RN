{
 "cells": [
  {
   "cell_type": "code",
   "execution_count": null,
   "metadata": {},
   "outputs": [],
   "source": [
    "K.clear_session()\n",
    "model_wo_training = keras.models.load_model(\"model_without_training\")\n",
    "model_w_training = keras.models.load_model(\"trained_model\")\n",
    "\n",
    "\n",
    "# Calculate weight differences\n",
    "initial_weights = model_wo_training.get_weights()\n",
    "final_weights = model_w_training.get_weights()\n",
    "\n",
    "weight_diff = [np.abs(initial - final) for initial, final in zip(initial_weights, final_weights)]\n",
    "\n",
    "# Flatten and sort weight differences\n",
    "flattened_diff = np.concatenate([arr.flatten() for arr in weight_diff])\n",
    "sorted_indices = np.argsort(flattened_diff)[::-1]\n",
    "\n",
    "# Determine the threshold value for the top 50% weights\n",
    "threshold_index = int(len(sorted_indices) * 0.5)\n",
    "threshold = flattened_diff[sorted_indices[threshold_index]]\n",
    "\n",
    "# Set weights above the threshold to their initial values, and the rest to zero\n",
    "modified_weights = []\n",
    "for initial, final in zip(initial_weights, final_weights):\n",
    "    mask = np.abs(final - initial) >= threshold\n",
    "    modified_weights.append(np.where(mask, initial, 0.0))\n",
    "\n",
    "final_model = keras.models.load_model(\"model_without_training\")\n",
    "final_model.set_weights(modified_weights)\n"
   ]
  },
  {
   "cell_type": "code",
   "execution_count": null,
   "metadata": {},
   "outputs": [],
   "source": [
    "test_loss, test_accuracy = final_model.evaluate(X_val, y_val_categorical)\n",
    "print(test_loss, test_accuracy)"
   ]
  },
  {
   "cell_type": "code",
   "execution_count": null,
   "metadata": {},
   "outputs": [],
   "source": [
    "K.clear_session()\n",
    "adam = optimizers.Adam(lr=0.001, decay=1E-4) #decay=1e-4\n",
    "checkpointer = ModelCheckpoint(filepath='mpl.mnist.hdf5', verbose=1, save_best_only=True, mode='max', monitor='val_accuracy')\n",
    "final_model = keras.models.load_model(\"model_without_training\")\n",
    "final_model.set_weights(modified_weights)\n",
    "final_model.fit(X_train, \n",
    "          y_train_categorical ,\n",
    "          epochs=200, batch_size=2048, \n",
    "          verbose=0, \n",
    "          validation_data=(X_val, y_val_categorical), \n",
    "          callbacks=[checkpointer, earlyStopping],\n",
    "         )"
   ]
  }
 ],
 "metadata": {
  "kernelspec": {
   "display_name": "Python 3.10.5 64-bit",
   "language": "python",
   "name": "python3"
  },
  "language_info": {
   "name": "python",
   "version": "3.10.5"
  },
  "orig_nbformat": 4,
  "vscode": {
   "interpreter": {
    "hash": "26de051ba29f2982a8de78e945f0abaf191376122a1563185a90213a26c5da77"
   }
  }
 },
 "nbformat": 4,
 "nbformat_minor": 2
}
