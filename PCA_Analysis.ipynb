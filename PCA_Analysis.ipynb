{
 "cells": [
  {
   "cell_type": "code",
   "execution_count": 12,
   "id": "ecb505e5-2c4d-4ff6-9b83-2d309fb099e4",
   "metadata": {
    "tags": []
   },
   "outputs": [],
   "source": [
    "import pandas as pd\n",
    "import numpy as np\n",
    "import matplotlib.pyplot as plt\n",
    "from sklearn.decomposition import PCA\n",
    "import seaborn as sns\n",
    "from mpl_toolkits.mplot3d import Axes3D"
   ]
  },
  {
   "cell_type": "code",
   "execution_count": 13,
   "id": "eb320be0-25b5-45f7-bab5-504e92a9e27b",
   "metadata": {
    "tags": []
   },
   "outputs": [],
   "source": [
    "def plot_PCA_fromDataset(x,y,components):\n",
    "    out = np.zeros((60000, 28*28 + 1))\n",
    "    for i in range(60000): \n",
    "        for k in range(28):\n",
    "            for j in range(28):\n",
    "                out[i][j+28*k + 1] = x[i][j][k]\n",
    "        out[i][0] = y[i]\n",
    "        \n",
    "    features = ['label'] +['pixel' + str(i) for i in range(out.shape[1]-1) ]\n",
    "    # Create a new DataFrame df\n",
    "    pca_df = pd.DataFrame(out, columns=features)\n",
    "    # Create an empty list which will save all meaningful labels\n",
    "    results = []\n",
    "    # Loop through all label\n",
    "    for i in range(pca_df.shape[0]):\n",
    "        # Extract the label for comparison\n",
    "        if pca_df['label'][i] == 0:\n",
    "            # Save meaningful label to the results\n",
    "            results.append('T-shirt/top')\n",
    "        # Following the same code pattern as the one above\n",
    "        elif pca_df['label'][i] == 1:\n",
    "            results.append('Trouser')\n",
    "        elif pca_df['label'][i] == 2:\n",
    "            results.append('Pullover')\n",
    "        elif pca_df['label'][i] == 3:\n",
    "            results.append('Dress')\n",
    "        elif pca_df['label'][i] == 4:\n",
    "            results.append('Coat')\n",
    "        elif pca_df['label'][i] == 5:\n",
    "            results.append('Sandal')\n",
    "        elif pca_df['label'][i] == 6:\n",
    "            results.append('Shirt')\n",
    "        elif pca_df['label'][i] == 7:\n",
    "            results.append('Sneaker')\n",
    "        elif pca_df['label'][i] == 8:\n",
    "            results.append('Bag')\n",
    "        elif pca_df['label'][i] == 9:\n",
    "            results.append('Ankle boot')\n",
    "    pca_df['result'] = results\n",
    "    pca = PCA(n_components=components)\n",
    "    # Fit the model with pixel columns and apply the dimensionality reduction on those columns\n",
    "    pca_result =  pca.fit_transform(pca_df[features].values)\n",
    "    pca_df['First Dimension'] = pca_result[:,0]\n",
    "    pca_df['Second Dimension'] = pca_result[:,1] \n",
    "    pca_df['Third Dimension'] = pca_result[:,2]\n",
    "    plt.figure(figsize=(16,10))\n",
    "    sns.scatterplot(\n",
    "        x=\"First Dimension\", y=\"Second Dimension\",\n",
    "        hue = \"result\",\n",
    "        hue_order = ['T-shirt/top', 'Trouser', 'Pullover', 'Dress', 'Coat', 'Sandal', 'Shirt', 'Sneaker', 'Bag', 'Ankle boot'],\n",
    "        palette=sns.color_palette(\"hls\", 10),\n",
    "        data=pca_df,\n",
    "        legend=\"full\",\n",
    "        alpha=0.3\n",
    "    )\n"
   ]
  },
  {
   "cell_type": "code",
   "execution_count": 20,
   "id": "b8130b35-8aa3-49e6-bfe1-e453cd2e0f7f",
   "metadata": {
    "tags": []
   },
   "outputs": [],
   "source": [
    "def PCA_fromDataset(x,y,components):\n",
    "    out = np.zeros((60000, 28*28 + 1))\n",
    "    for i in range(60000): \n",
    "        for k in range(28):\n",
    "            for j in range(28):\n",
    "                out[i][j+28*k + 1] = x[i][j][k]\n",
    "        out[i][0] = y[i]\n",
    "        \n",
    "    features = ['label'] +['pixel' + str(i) for i in range(out.shape[1]-1) ]\n",
    "    # Create a new DataFrame df\n",
    "    pca_df = pd.DataFrame(out, columns=features)\n",
    "    # Create an empty list which will save all meaningful labels\n",
    "    results = []\n",
    "    # Loop through all label\n",
    "    for i in range(pca_df.shape[0]):\n",
    "        results.append(pca_df['label'][i])\n",
    "    pca_df['result'] = results\n",
    "    pca = PCA(n_components=components)\n",
    "    # Fit the model with pixel columns and apply the dimensionality reduction on those columns\n",
    "    pca_result =  pca.fit_transform(pca_df[features].values)\n",
    "    pca_df['First Dimension'] = pca_result[:,0]\n",
    "    pca_df['Second Dimension'] = pca_result[:,1] \n",
    "    sns.scatterplot(\n",
    "        x=\"First Dimension\", y=\"Second Dimension\",\n",
    "        hue = \"result\",\n",
    "        hue_order = [0,1,2,3,4,5,6,7,8,9],\n",
    "        palette=sns.color_palette(\"hls\", 10),\n",
    "        data=pca_df,\n",
    "        legend=\"full\",\n",
    "        alpha=0.3\n",
    "    )\n",
    "    return pca_df['First Dimension'],pca_df['Second Dimension']"
   ]
  },
  {
   "cell_type": "code",
   "execution_count": null,
   "id": "eab7fc75-5543-4d7a-a85f-6e0b14b0793f",
   "metadata": {},
   "outputs": [],
   "source": []
  }
 ],
 "metadata": {
  "kernelspec": {
   "display_name": "Python 3 (ipykernel)",
   "language": "python",
   "name": "python3"
  },
  "language_info": {
   "codemirror_mode": {
    "name": "ipython",
    "version": 3
   },
   "file_extension": ".py",
   "mimetype": "text/x-python",
   "name": "python",
   "nbconvert_exporter": "python",
   "pygments_lexer": "ipython3",
   "version": "3.9.2"
  }
 },
 "nbformat": 4,
 "nbformat_minor": 5
}
