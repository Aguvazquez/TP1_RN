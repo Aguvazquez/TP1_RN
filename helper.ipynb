{
 "cells": [
  {
   "cell_type": "code",
   "execution_count": 1,
   "id": "d6ad2f66-15a0-4b8d-aacf-2586ae59f799",
   "metadata": {
    "tags": []
   },
   "outputs": [
    {
     "name": "stderr",
     "output_type": "stream",
     "text": [
      "C:\\Python\\Python39\\lib\\site-packages\\scipy\\__init__.py:138: UserWarning: A NumPy version >=1.16.5 and <1.23.0 is required for this version of SciPy (detected version 1.24.3)\n",
      "  warnings.warn(f\"A NumPy version >={np_minversion} and <{np_maxversion} is required for this version of \"\n"
     ]
    }
   ],
   "source": [
    "import numpy as np \n",
    "import matplotlib.pyplot as plt\n",
    "import seaborn as sns\n",
    "from sklearn.metrics import f1_score,precision_score, recall_score,roc_curve, auc, roc_auc_score\n",
    "\n"
   ]
  },
  {
   "cell_type": "code",
   "execution_count": 2,
   "id": "60dba4ea-5252-4677-96a2-a3ca7a2fe3dd",
   "metadata": {
    "tags": []
   },
   "outputs": [],
   "source": [
    "def plot_train(history):   \n",
    "    epoch_count = range(1,len(history.history['accuracy']) + 1)\n",
    "    sns.lineplot(x=epoch_count, y = history.history['val_loss'],label = 'validation loss')\n",
    "    sns.lineplot(x=epoch_count, y = history.history['val_accuracy'],label = 'validation acc')\n",
    "    sns.lineplot(x=epoch_count, y = history.history['loss'],label = 'train loss')\n",
    "    sns.lineplot(x=epoch_count, y = history.history['accuracy'],label = 'train acc')\n",
    "    plt.title(\"SoftMax Regression\")\n",
    "    plt.xlabel(\"Epoch\")\n",
    "    plt.ylabel(\"Value\")\n",
    "    plt.grid()\n",
    "    plt.show()"
   ]
  },
  {
   "cell_type": "code",
   "execution_count": 27,
   "id": "780a04b3-7dac-4a63-aa71-515018b58741",
   "metadata": {
    "tags": []
   },
   "outputs": [],
   "source": [
    "def sns_val_acc(history,itera,data):   \n",
    "    epoch_count = range(1,len(history.history['val_accuracy']) + 1)\n",
    "    #sns.lineplot(x=epoch_count, y = history.history['val_loss'],label = 'validation loss, itr = %d' %itera)\n",
    "    sns.lineplot(x=epoch_count, y = history.history['val_accuracy'],label = 'validation acc, itr = %d, pesoInit = %s' %(itera,data))"
   ]
  },
  {
   "cell_type": "code",
   "execution_count": 30,
   "id": "8cad064d-93b0-4006-9aee-8eb4e5c9d123",
   "metadata": {
    "tags": []
   },
   "outputs": [],
   "source": [
    "def sns_val_MAE(history,itera,data):   \n",
    "    epoch_count = range(1,len(history.history['val_MAE']) + 1)\n",
    "    #sns.lineplot(x=epoch_count, y = history.history['val_loss'],label = 'validation loss, itr = %d' %itera)\n",
    "    sns.lineplot(x=epoch_count, y = history.history['val_MAE'],label = 'validation MAE = %0.4f, itr = %d, bs = %d ' %(np.min(history.history['val_MAE']),itera,data))"
   ]
  },
  {
   "cell_type": "code",
   "execution_count": 21,
   "id": "a691624d-fe8e-4202-8a11-0bface792eda",
   "metadata": {
    "tags": []
   },
   "outputs": [],
   "source": [
    "def get_f1_prec_recall(model,X_val_par,y_val_par):\n",
    "    y_pred = model.predict(X_val_par)\n",
    "\n",
    "    prediction = np.zeros(X_val_par.shape[0]).astype(int)\n",
    "    for k in range(X_val_par.shape[0]):\n",
    "        prediction[k] = np.argmax(y_pred[k])\n",
    "\n",
    "    f1_macro = f1_score(y_val_par, prediction,average='macro')\n",
    "    f1_micro = f1_score(y_val_par, prediction,average='micro')\n",
    "    f1_weihtged = f1_score(y_val_par, prediction,average='weighted')\n",
    "    precision = precision_score(y_val_par, prediction,average='macro')\n",
    "    recall = recall_score(y_val_par, prediction,average='macro')\n",
    "    print(\" Precision: \\t\",precision,\"\\n\",\"Recall: \\t\", recall)\n",
    "    print(\" F1 Macro: \\t\",f1_macro,\"\\n\",\"F1 Micro: \\t\",f1_micro,\"\\n\", \"F1 Weihtged: \",f1_weihtged)\n",
    "    return f1_macro,precision,recall"
   ]
  },
  {
   "cell_type": "code",
   "execution_count": 22,
   "id": "9bd9433d-0915-4d8c-ba91-f051eb5fd796",
   "metadata": {
    "tags": []
   },
   "outputs": [],
   "source": [
    "def ROC_curve(model,X_val_par,y_val_par):\n",
    "    fpr = dict()\n",
    "    tpr = dict()\n",
    "    roc_auc = dict()\n",
    "    y_pred = model.predict(X_val_par)\n",
    "    prediction = np.zeros(X_val_par.shape[0]).astype(int)\n",
    "    for k in range(X_val_par.shape[0]):\n",
    "        prediction[k] = np.argmax(y_pred[k])\n",
    "    for i in range(10):\n",
    "        fpr[i], tpr[i], _ = roc_curve(y_sparse_val[:,i], np.eye(10)[prediction][:,i])\n",
    "        roc_auc[i] = auc(fpr[i], tpr[i])\n",
    "\n",
    "    #Ploteo\n",
    "    plt.figure(figsize=(10, 6))\n",
    "    colors = ['darkorange', 'blue', 'green', 'red', 'purple', 'brown', 'pink', 'gray', 'olive', 'cyan']\n",
    "\n",
    "    for i in range(10):\n",
    "        plt.plot(fpr[i], tpr[i], color=colors[i], lw=2, label='ROC curve class '+label_dict[i]+' (AUC = %0.2f)' % (roc_auc[i]))\n",
    "\n",
    "    plt.plot([0, 1], [0, 1], color='black', lw=2, linestyle='--')\n",
    "    plt.xlim([0.0, 1.0])\n",
    "    plt.ylim([0.0, 1.05])\n",
    "    plt.xlabel('False Positive Rate')\n",
    "    plt.ylabel('True Positive Rate')\n",
    "    plt.title('- ROC - (AUC-MACRO =  %0.3f\")' %np.mean(np.array(list(roc_auc.values()))))\n",
    "    plt.legend(loc=\"lower right\")\n",
    "    plt.show() \n",
    "\n",
    "    print(\"Macro averege of the AUC value:  %0.2f\" %np.mean(np.array(list(roc_auc.values()))))\n",
    "    return np.mean(np.array(list(roc_auc.values())))"
   ]
  },
  {
   "cell_type": "code",
   "execution_count": 23,
   "id": "4b449f96-2408-44bb-b571-e0813fda9530",
   "metadata": {
    "tags": []
   },
   "outputs": [],
   "source": [
    "def save2csv(history,f1,recall,precision,auc,name):\n",
    "    # convert the history.history dict to a pandas DataFrame:     \n",
    "    hist_df = pd.DataFrame(history.history) \n",
    "    hist_df['precision'] = precision\n",
    "    hist_df['recall'] = recall\n",
    "    hist_df['f1'] = f1_macro\n",
    "    hist_df['auc'] = auc\n",
    "    hist_df.to_csv(name,index=False)"
   ]
  }
 ],
 "metadata": {
  "kernelspec": {
   "display_name": "Python 3 (ipykernel)",
   "language": "python",
   "name": "python3"
  },
  "language_info": {
   "codemirror_mode": {
    "name": "ipython",
    "version": 3
   },
   "file_extension": ".py",
   "mimetype": "text/x-python",
   "name": "python",
   "nbconvert_exporter": "python",
   "pygments_lexer": "ipython3",
   "version": "3.9.2"
  }
 },
 "nbformat": 4,
 "nbformat_minor": 5
}
